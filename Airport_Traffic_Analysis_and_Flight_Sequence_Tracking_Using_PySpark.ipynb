{
  "nbformat": 4,
  "nbformat_minor": 0,
  "metadata": {
    "colab": {
      "provenance": [],
      "authorship_tag": "ABX9TyNUaE1Xwrs+3EvUJ7QDK7FA",
      "include_colab_link": true
    },
    "kernelspec": {
      "name": "python3",
      "display_name": "Python 3"
    },
    "language_info": {
      "name": "python"
    }
  },
  "cells": [
    {
      "cell_type": "markdown",
      "metadata": {
        "id": "view-in-github",
        "colab_type": "text"
      },
      "source": [
        "<a href=\"https://colab.research.google.com/github/Javad-Manashti/Airport-Traffic-Analysis-and-Flight-Sequence-Tracking-Using-PySpark/blob/main/Airport_Traffic_Analysis_and_Flight_Sequence_Tracking_Using_PySpark.ipynb\" target=\"_parent\"><img src=\"https://colab.research.google.com/assets/colab-badge.svg\" alt=\"Open In Colab\"/></a>"
      ]
    },
    {
      "cell_type": "markdown",
      "source": [
        "**Airport Traffic Analysis and Flight Sequence Tracking Using PySpark**\n",
        "\n",
        "\n",
        "**By: Javad Manashty (5146323306, mjmanashti@gmial.com)**\n",
        "\n",
        "\n",
        "\n",
        "### Description:\n",
        "This PySpark code is designed for comprehensive airport traffic analysis and tracking the sequence of flights for individual aircraft. The script consists of two primary tasks:\n",
        "\n",
        "1. **Flight Sequence Tracking**: Determines the sequence of flights based on the turn of each aircraft. For every flight, the code identifies the next flight scheduled for the same aircraft, providing insights into aircraft utilization and scheduling.\n",
        "\n",
        "2. **Airport Traffic Analysis**: Calculates the number of inbound and outbound flights at an airport in 15-minute intervals within a specified time frame. This analysis helps in understanding the traffic pattern at the airport, facilitating better resource management and operational planning.\n",
        "\n",
        "The script processes a dataset containing flight details like origin, destination, departure, and arrival times. It uses PySpark's powerful data processing capabilities to handle large volumes of data efficiently.\n",
        "\n",
        "#### Key Components of the Code:\n",
        "- **Initialization of Spark Session**: Sets up the environment for data processing.\n",
        "- **Data Ingestion and Preparation**: Reads a CSV file containing flight data into a Spark DataFrame and prepares the data by converting timestamp strings into actual timestamp data types.\n",
        "- **String of Flights Construction**: Uses window functions to order data by arrival times for each aircraft and calculates the next flight for each aircraft.\n",
        "- **Airport Traffic Dataset Creation**: Groups data by 15-minute windows to count inbound and outbound flights, merging these counts to provide a comprehensive view of airport traffic.\n",
        "- **Output Representation**: The results are displayed in a structured format, showing the sequence of flights for each aircraft and the number of flights arriving and departing from the airport in each time window.\n",
        "\n",
        "#### Output Verification:\n",
        "To ensure the correctness and effectiveness of the solution, the script's output is presented alongside the code. The output includes:\n",
        "- A table showing the sequence of flights for each aircraft, with columns for flight ID, aircraft registration code, actual arrival time, and the next flight ID.\n",
        "- A detailed table of airport traffic data, listing the number of inbound and outbound flights in each 15-minute interval for specified airports.\n",
        "\n",
        "This code, along with the provided outputs, serves as proof of the working solution, demonstrating the script's capability to analyze flight data efficiently and effectively using PySpark.\n",
        "\n"
      ],
      "metadata": {
        "id": "xqoygWwC5ILg"
      }
    },
    {
      "cell_type": "markdown",
      "source": [
        "#installation"
      ],
      "metadata": {
        "id": "X9vhqQSy5kSN"
      }
    },
    {
      "cell_type": "code",
      "execution_count": 1,
      "metadata": {
        "colab": {
          "base_uri": "https://localhost:8080/"
        },
        "id": "abIksRWyvd7E",
        "outputId": "43f0bf31-0358-4d94-f359-b14494861eba"
      },
      "outputs": [
        {
          "output_type": "stream",
          "name": "stdout",
          "text": [
            "Collecting pyspark\n",
            "  Downloading pyspark-3.5.0.tar.gz (316.9 MB)\n",
            "\u001b[2K     \u001b[90m━━━━━━━━━━━━━━━━━━━━━━━━━━━━━━━━━━━━━━━━\u001b[0m \u001b[32m316.9/316.9 MB\u001b[0m \u001b[31m3.0 MB/s\u001b[0m eta \u001b[36m0:00:00\u001b[0m\n",
            "\u001b[?25h  Preparing metadata (setup.py) ... \u001b[?25l\u001b[?25hdone\n",
            "Requirement already satisfied: py4j==0.10.9.7 in /usr/local/lib/python3.10/dist-packages (from pyspark) (0.10.9.7)\n",
            "Building wheels for collected packages: pyspark\n",
            "  Building wheel for pyspark (setup.py) ... \u001b[?25l\u001b[?25hdone\n",
            "  Created wheel for pyspark: filename=pyspark-3.5.0-py2.py3-none-any.whl size=317425345 sha256=d8c2972131a5a27a404ed9196beff60695bd5c82e372c0bc1b4d4865667ff8c1\n",
            "  Stored in directory: /root/.cache/pip/wheels/41/4e/10/c2cf2467f71c678cfc8a6b9ac9241e5e44a01940da8fbb17fc\n",
            "Successfully built pyspark\n",
            "Installing collected packages: pyspark\n",
            "Successfully installed pyspark-3.5.0\n"
          ]
        }
      ],
      "source": [
        "# Install PySpark\n",
        "!pip install pyspark\n",
        "\n",
        "from pyspark.sql import SparkSession\n",
        "\n",
        "# Initialize Spark session\n",
        "spark = SparkSession.builder.appName(\"SPARKProcessing\").getOrCreate()\n"
      ]
    },
    {
      "cell_type": "markdown",
      "source": [
        "# Entire code"
      ],
      "metadata": {
        "id": "XD2f6KvZ5l2F"
      }
    },
    {
      "cell_type": "code",
      "source": [
        "from pyspark.sql import SparkSession\n",
        "from pyspark.sql.functions import col, window, lead, lit, date_format\n",
        "from pyspark.sql.window import Window\n",
        "from pyspark.sql.types import TimestampType\n",
        "\n",
        "# Initialize Spark session\n",
        "spark = SparkSession.builder.appName(\"FlightDataAnalysis\").getOrCreate()\n",
        "\n",
        "# Read the data into a Spark DataFrame\n",
        "csv_file_path = '/content/Data Engineer exercise.csv'  # Replace with your file path\n",
        "spark_df = spark.read.csv(csv_file_path, header=True, inferSchema=True)\n",
        "\n",
        "# Data Preparation\n",
        "timestamp_cols = ['actl_dep_lcl_tms', 'actl_arr_lcl_tms', 'airborne_lcl_tms', 'landing_lcl_tms']\n",
        "for col_name in timestamp_cols:\n",
        "    spark_df = spark_df.withColumn(col_name, col(col_name).cast(TimestampType()))\n",
        "\n",
        "# Task 1: Build a String of Flights\n",
        "window_spec = Window.partitionBy(\"acft_regs_cde\").orderBy(\"actl_arr_lcl_tms\")\n",
        "spark_df = spark_df.withColumn(\"next_flight_id\", lead(\"id\", 1).over(window_spec))\n",
        "\n",
        "# Task 2: Build a Dataset for Airport Traffic\n",
        "# Calculating inbound and outbound traffic separately\n",
        "inbound_traffic = spark_df.groupBy(\"orig\", window(col(\"actl_arr_lcl_tms\"), \"15 minutes\")).count().withColumnRenamed(\"count\", \"in\").withColumnRenamed(\"orig\", \"airport_code\")\n",
        "outbound_traffic = spark_df.groupBy(\"dest\", window(col(\"actl_dep_lcl_tms\"), \"15 minutes\")).count().withColumnRenamed(\"count\", \"out\").withColumnRenamed(\"dest\", \"airport_code\")\n",
        "\n",
        "# Merging the counts for inbound and outbound traffic\n",
        "airport_traffic = inbound_traffic.join(outbound_traffic, [\"window\", \"airport_code\"], \"outer\")\n",
        "\n",
        "# Transforming the data to match the desired output format\n",
        "airport_traffic = airport_traffic.select(col(\"airport_code\"), date_format(col(\"window\").start, \"yyyy-MM-dd'T'HH:mm:ss\").alias(\"tms\"), \"out\", \"in\")\n",
        "\n",
        "# Filling missing values with zero\n",
        "airport_traffic = airport_traffic.na.fill(value=0, subset=[\"in\", \"out\"])\n",
        "\n",
        "# Show the airport traffic data for the first few time windows.\n",
        "airport_traffic.orderBy(\"airport_code\", \"tms\").show(50)  # Adjust the number to show more rows\n",
        "\n",
        "# Stopping the Spark session\n",
        "spark.stop()\n"
      ],
      "metadata": {
        "colab": {
          "base_uri": "https://localhost:8080/"
        },
        "id": "jJ6OWbJlvfwb",
        "outputId": "773843d1-2a75-4507-8bbb-a25d8d4187ee"
      },
      "execution_count": 7,
      "outputs": [
        {
          "output_type": "stream",
          "name": "stdout",
          "text": [
            "+------------+-------------------+---+---+\n",
            "|airport_code|                tms|out| in|\n",
            "+------------+-------------------+---+---+\n",
            "|         YVR|2022-12-31T08:15:00|  0|  1|\n",
            "|         YVR|2022-12-31T08:45:00|  1|  0|\n",
            "|         YVR|2022-12-31T10:15:00|  1|  0|\n",
            "|         YVR|2022-12-31T11:15:00|  1|  0|\n",
            "|         YVR|2022-12-31T13:00:00|  1|  0|\n",
            "|         YVR|2022-12-31T13:15:00|  0|  1|\n",
            "|         YVR|2022-12-31T14:30:00|  1|  0|\n",
            "|         YVR|2022-12-31T15:15:00|  0|  1|\n",
            "|         YVR|2022-12-31T16:30:00|  1|  0|\n",
            "|         YVR|2022-12-31T16:45:00|  0|  1|\n",
            "|         YVR|2022-12-31T17:15:00|  1|  1|\n",
            "|         YVR|2022-12-31T18:45:00|  1|  0|\n",
            "|         YVR|2022-12-31T19:00:00|  0|  1|\n",
            "|         YVR|2022-12-31T19:30:00|  1|  0|\n",
            "|         YVR|2022-12-31T19:45:00|  0|  1|\n",
            "|         YVR|2022-12-31T20:30:00|  1|  0|\n",
            "|         YVR|2022-12-31T21:15:00|  0|  1|\n",
            "|         YVR|2022-12-31T22:15:00|  0|  1|\n",
            "|         YVR|2022-12-31T23:15:00|  0|  1|\n",
            "|         YYZ|2022-12-31T00:15:00|  1|  0|\n",
            "|         YYZ|2022-12-31T06:00:00|  1|  0|\n",
            "|         YYZ|2022-12-31T08:00:00|  1|  0|\n",
            "|         YYZ|2022-12-31T09:45:00|  1|  0|\n",
            "|         YYZ|2022-12-31T10:00:00|  1|  0|\n",
            "|         YYZ|2022-12-31T10:30:00|  0|  1|\n",
            "|         YYZ|2022-12-31T11:45:00|  1|  0|\n",
            "|         YYZ|2022-12-31T12:15:00|  0|  1|\n",
            "|         YYZ|2022-12-31T12:45:00|  1|  0|\n",
            "|         YYZ|2022-12-31T13:00:00|  0|  1|\n",
            "|         YYZ|2022-12-31T14:00:00|  1|  0|\n",
            "|         YYZ|2022-12-31T14:45:00|  1|  1|\n",
            "|         YYZ|2022-12-31T16:00:00|  1|  0|\n",
            "|         YYZ|2022-12-31T16:30:00|  0|  1|\n",
            "|         YYZ|2022-12-31T18:30:00|  0|  1|\n",
            "|         YYZ|2022-12-31T19:00:00|  0|  1|\n",
            "|         YYZ|2022-12-31T20:30:00|  0|  1|\n",
            "|         YYZ|2022-12-31T21:15:00|  0|  1|\n",
            "|         YYZ|2022-12-31T22:15:00|  0|  1|\n",
            "+------------+-------------------+---+---+\n",
            "\n"
          ]
        }
      ]
    }
  ]
}